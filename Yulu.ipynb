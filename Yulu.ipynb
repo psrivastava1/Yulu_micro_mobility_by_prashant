{
  "metadata": {
    "kernelspec": {
      "name": "python",
      "display_name": "Python (Pyodide)",
      "language": "python"
    },
    "language_info": {
      "codemirror_mode": {
        "name": "python",
        "version": 3
      },
      "file_extension": ".py",
      "mimetype": "text/x-python",
      "name": "python",
      "nbconvert_exporter": "python",
      "pygments_lexer": "ipython3",
      "version": "3.8"
    }
  },
  "nbformat_minor": 4,
  "nbformat": 4,
  "cells": [
    {
      "cell_type": "markdown",
      "source": "# Yulu Data Frame",
      "metadata": {}
    },
    {
      "cell_type": "markdown",
      "source": "### Installing and Importing libraries",
      "metadata": {}
    },
    {
      "cell_type": "code",
      "source": "%pip install seaborn",
      "metadata": {
        "trusted": true
      },
      "outputs": [],
      "execution_count": 1
    },
    {
      "cell_type": "code",
      "source": "import seaborn as sns\nimport matplotlib.pyplot as plt\nimport numpy as np\nimport pandas as pd\nfrom scipy.stats import ttest_1samp, ttest_ind\nfrom scipy.stats import chisquare,chi2_contingency,chi2\nfrom scipy.stats import pearsonr,spearmanr\nfrom scipy.stats import shapiro,levene\nfrom scipy.stats import f_oneway,kruskal\nfrom statsmodels.graphics.gofplots import qqplot",
      "metadata": {
        "trusted": true
      },
      "outputs": [],
      "execution_count": 146
    },
    {
      "cell_type": "markdown",
      "source": "### *Read the yulu.csv file and create a data frame*",
      "metadata": {}
    },
    {
      "cell_type": "code",
      "source": "df = pd.read_csv('yulu.csv')\ndf.head(5)",
      "metadata": {
        "trusted": true
      },
      "outputs": [
        {
          "execution_count": 3,
          "output_type": "execute_result",
          "data": {
            "text/plain": "              datetime  season  holiday  workingday  weather  temp   atemp  \\\n0  2011-01-01 00:00:00       1        0           0        1  9.84  14.395   \n1  2011-01-01 01:00:00       1        0           0        1  9.02  13.635   \n2  2011-01-01 02:00:00       1        0           0        1  9.02  13.635   \n3  2011-01-01 03:00:00       1        0           0        1  9.84  14.395   \n4  2011-01-01 04:00:00       1        0           0        1  9.84  14.395   \n\n   humidity  windspeed  casual  registered  count  \n0        81        0.0       3          13     16  \n1        80        0.0       8          32     40  \n2        80        0.0       5          27     32  \n3        75        0.0       3          10     13  \n4        75        0.0       0           1      1  ",
            "text/html": "<div>\n<style scoped>\n    .dataframe tbody tr th:only-of-type {\n        vertical-align: middle;\n    }\n\n    .dataframe tbody tr th {\n        vertical-align: top;\n    }\n\n    .dataframe thead th {\n        text-align: right;\n    }\n</style>\n<table border=\"1\" class=\"dataframe\">\n  <thead>\n    <tr style=\"text-align: right;\">\n      <th></th>\n      <th>datetime</th>\n      <th>season</th>\n      <th>holiday</th>\n      <th>workingday</th>\n      <th>weather</th>\n      <th>temp</th>\n      <th>atemp</th>\n      <th>humidity</th>\n      <th>windspeed</th>\n      <th>casual</th>\n      <th>registered</th>\n      <th>count</th>\n    </tr>\n  </thead>\n  <tbody>\n    <tr>\n      <th>0</th>\n      <td>2011-01-01 00:00:00</td>\n      <td>1</td>\n      <td>0</td>\n      <td>0</td>\n      <td>1</td>\n      <td>9.84</td>\n      <td>14.395</td>\n      <td>81</td>\n      <td>0.0</td>\n      <td>3</td>\n      <td>13</td>\n      <td>16</td>\n    </tr>\n    <tr>\n      <th>1</th>\n      <td>2011-01-01 01:00:00</td>\n      <td>1</td>\n      <td>0</td>\n      <td>0</td>\n      <td>1</td>\n      <td>9.02</td>\n      <td>13.635</td>\n      <td>80</td>\n      <td>0.0</td>\n      <td>8</td>\n      <td>32</td>\n      <td>40</td>\n    </tr>\n    <tr>\n      <th>2</th>\n      <td>2011-01-01 02:00:00</td>\n      <td>1</td>\n      <td>0</td>\n      <td>0</td>\n      <td>1</td>\n      <td>9.02</td>\n      <td>13.635</td>\n      <td>80</td>\n      <td>0.0</td>\n      <td>5</td>\n      <td>27</td>\n      <td>32</td>\n    </tr>\n    <tr>\n      <th>3</th>\n      <td>2011-01-01 03:00:00</td>\n      <td>1</td>\n      <td>0</td>\n      <td>0</td>\n      <td>1</td>\n      <td>9.84</td>\n      <td>14.395</td>\n      <td>75</td>\n      <td>0.0</td>\n      <td>3</td>\n      <td>10</td>\n      <td>13</td>\n    </tr>\n    <tr>\n      <th>4</th>\n      <td>2011-01-01 04:00:00</td>\n      <td>1</td>\n      <td>0</td>\n      <td>0</td>\n      <td>1</td>\n      <td>9.84</td>\n      <td>14.395</td>\n      <td>75</td>\n      <td>0.0</td>\n      <td>0</td>\n      <td>1</td>\n      <td>1</td>\n    </tr>\n  </tbody>\n</table>\n</div>"
          },
          "metadata": {}
        }
      ],
      "execution_count": 3
    },
    {
      "cell_type": "markdown",
      "source": "### *checking the dataframe shape,null-values and other info*",
      "metadata": {}
    },
    {
      "cell_type": "code",
      "source": "df.shape",
      "metadata": {
        "trusted": true
      },
      "outputs": [
        {
          "execution_count": 4,
          "output_type": "execute_result",
          "data": {
            "text/plain": "(10886, 12)"
          },
          "metadata": {}
        }
      ],
      "execution_count": 4
    },
    {
      "cell_type": "code",
      "source": "df.info()",
      "metadata": {
        "trusted": true
      },
      "outputs": [
        {
          "name": "stdout",
          "text": "<class 'pandas.core.frame.DataFrame'>\nRangeIndex: 10886 entries, 0 to 10885\nData columns (total 12 columns):\n #   Column      Non-Null Count  Dtype  \n---  ------      --------------  -----  \n 0   datetime    10886 non-null  object \n 1   season      10886 non-null  int64  \n 2   holiday     10886 non-null  int64  \n 3   workingday  10886 non-null  int64  \n 4   weather     10886 non-null  int64  \n 5   temp        10886 non-null  float64\n 6   atemp       10886 non-null  float64\n 7   humidity    10886 non-null  int64  \n 8   windspeed   10886 non-null  float64\n 9   casual      10886 non-null  int64  \n 10  registered  10886 non-null  int64  \n 11  count       10886 non-null  int64  \ndtypes: float64(3), int64(8), object(1)\nmemory usage: 978.1+ KB\n",
          "output_type": "stream"
        }
      ],
      "execution_count": 5
    },
    {
      "cell_type": "code",
      "source": "df.describe()",
      "metadata": {
        "trusted": true
      },
      "outputs": [
        {
          "execution_count": 6,
          "output_type": "execute_result",
          "data": {
            "text/plain": "             season       holiday    workingday       weather         temp  \\\ncount  10886.000000  10886.000000  10886.000000  10886.000000  10886.00000   \nmean       2.506614      0.028569      0.680875      1.418427     20.23086   \nstd        1.116174      0.166599      0.466159      0.633839      7.79159   \nmin        1.000000      0.000000      0.000000      1.000000      0.82000   \n25%        2.000000      0.000000      0.000000      1.000000     13.94000   \n50%        3.000000      0.000000      1.000000      1.000000     20.50000   \n75%        4.000000      0.000000      1.000000      2.000000     26.24000   \nmax        4.000000      1.000000      1.000000      4.000000     41.00000   \n\n              atemp      humidity     windspeed        casual    registered  \\\ncount  10886.000000  10886.000000  10886.000000  10886.000000  10886.000000   \nmean      23.655084     61.886460     12.799395     36.021955    155.552177   \nstd        8.474601     19.245033      8.164537     49.960477    151.039033   \nmin        0.760000      0.000000      0.000000      0.000000      0.000000   \n25%       16.665000     47.000000      7.001500      4.000000     36.000000   \n50%       24.240000     62.000000     12.998000     17.000000    118.000000   \n75%       31.060000     77.000000     16.997900     49.000000    222.000000   \nmax       45.455000    100.000000     56.996900    367.000000    886.000000   \n\n              count  \ncount  10886.000000  \nmean     191.574132  \nstd      181.144454  \nmin        1.000000  \n25%       42.000000  \n50%      145.000000  \n75%      284.000000  \nmax      977.000000  ",
            "text/html": "<div>\n<style scoped>\n    .dataframe tbody tr th:only-of-type {\n        vertical-align: middle;\n    }\n\n    .dataframe tbody tr th {\n        vertical-align: top;\n    }\n\n    .dataframe thead th {\n        text-align: right;\n    }\n</style>\n<table border=\"1\" class=\"dataframe\">\n  <thead>\n    <tr style=\"text-align: right;\">\n      <th></th>\n      <th>season</th>\n      <th>holiday</th>\n      <th>workingday</th>\n      <th>weather</th>\n      <th>temp</th>\n      <th>atemp</th>\n      <th>humidity</th>\n      <th>windspeed</th>\n      <th>casual</th>\n      <th>registered</th>\n      <th>count</th>\n    </tr>\n  </thead>\n  <tbody>\n    <tr>\n      <th>count</th>\n      <td>10886.000000</td>\n      <td>10886.000000</td>\n      <td>10886.000000</td>\n      <td>10886.000000</td>\n      <td>10886.00000</td>\n      <td>10886.000000</td>\n      <td>10886.000000</td>\n      <td>10886.000000</td>\n      <td>10886.000000</td>\n      <td>10886.000000</td>\n      <td>10886.000000</td>\n    </tr>\n    <tr>\n      <th>mean</th>\n      <td>2.506614</td>\n      <td>0.028569</td>\n      <td>0.680875</td>\n      <td>1.418427</td>\n      <td>20.23086</td>\n      <td>23.655084</td>\n      <td>61.886460</td>\n      <td>12.799395</td>\n      <td>36.021955</td>\n      <td>155.552177</td>\n      <td>191.574132</td>\n    </tr>\n    <tr>\n      <th>std</th>\n      <td>1.116174</td>\n      <td>0.166599</td>\n      <td>0.466159</td>\n      <td>0.633839</td>\n      <td>7.79159</td>\n      <td>8.474601</td>\n      <td>19.245033</td>\n      <td>8.164537</td>\n      <td>49.960477</td>\n      <td>151.039033</td>\n      <td>181.144454</td>\n    </tr>\n    <tr>\n      <th>min</th>\n      <td>1.000000</td>\n      <td>0.000000</td>\n      <td>0.000000</td>\n      <td>1.000000</td>\n      <td>0.82000</td>\n      <td>0.760000</td>\n      <td>0.000000</td>\n      <td>0.000000</td>\n      <td>0.000000</td>\n      <td>0.000000</td>\n      <td>1.000000</td>\n    </tr>\n    <tr>\n      <th>25%</th>\n      <td>2.000000</td>\n      <td>0.000000</td>\n      <td>0.000000</td>\n      <td>1.000000</td>\n      <td>13.94000</td>\n      <td>16.665000</td>\n      <td>47.000000</td>\n      <td>7.001500</td>\n      <td>4.000000</td>\n      <td>36.000000</td>\n      <td>42.000000</td>\n    </tr>\n    <tr>\n      <th>50%</th>\n      <td>3.000000</td>\n      <td>0.000000</td>\n      <td>1.000000</td>\n      <td>1.000000</td>\n      <td>20.50000</td>\n      <td>24.240000</td>\n      <td>62.000000</td>\n      <td>12.998000</td>\n      <td>17.000000</td>\n      <td>118.000000</td>\n      <td>145.000000</td>\n    </tr>\n    <tr>\n      <th>75%</th>\n      <td>4.000000</td>\n      <td>0.000000</td>\n      <td>1.000000</td>\n      <td>2.000000</td>\n      <td>26.24000</td>\n      <td>31.060000</td>\n      <td>77.000000</td>\n      <td>16.997900</td>\n      <td>49.000000</td>\n      <td>222.000000</td>\n      <td>284.000000</td>\n    </tr>\n    <tr>\n      <th>max</th>\n      <td>4.000000</td>\n      <td>1.000000</td>\n      <td>1.000000</td>\n      <td>4.000000</td>\n      <td>41.00000</td>\n      <td>45.455000</td>\n      <td>100.000000</td>\n      <td>56.996900</td>\n      <td>367.000000</td>\n      <td>886.000000</td>\n      <td>977.000000</td>\n    </tr>\n  </tbody>\n</table>\n</div>"
          },
          "metadata": {}
        }
      ],
      "execution_count": 6
    },
    {
      "cell_type": "code",
      "source": "df.isna().sum()",
      "metadata": {
        "trusted": true
      },
      "outputs": [
        {
          "execution_count": 7,
          "output_type": "execute_result",
          "data": {
            "text/plain": "datetime      0\nseason        0\nholiday       0\nworkingday    0\nweather       0\ntemp          0\natemp         0\nhumidity      0\nwindspeed     0\ncasual        0\nregistered    0\ncount         0\ndtype: int64"
          },
          "metadata": {}
        }
      ],
      "execution_count": 7
    },
    {
      "cell_type": "markdown",
      "source": "### unique values and count in categorial columns",
      "metadata": {}
    },
    {
      "cell_type": "code",
      "source": "df['season'].value_counts()",
      "metadata": {
        "trusted": true
      },
      "outputs": [
        {
          "execution_count": 8,
          "output_type": "execute_result",
          "data": {
            "text/plain": "4    2734\n2    2733\n3    2733\n1    2686\nName: season, dtype: int64"
          },
          "metadata": {}
        }
      ],
      "execution_count": 8
    },
    {
      "cell_type": "code",
      "source": "# season (1: spring, 2: summer, 3: fall, 4: winter)",
      "metadata": {
        "trusted": true
      },
      "outputs": [],
      "execution_count": 9
    },
    {
      "cell_type": "code",
      "source": "df['weather'].value_counts()",
      "metadata": {
        "trusted": true
      },
      "outputs": [
        {
          "execution_count": 10,
          "output_type": "execute_result",
          "data": {
            "text/plain": "1    7192\n2    2834\n3     859\n4       1\nName: weather, dtype: int64"
          },
          "metadata": {}
        }
      ],
      "execution_count": 10
    },
    {
      "cell_type": "code",
      "source": "# 1: Clear, Few clouds, partly cloudy, partly cloudy\n# 2: Mist + Cloudy, Mist + Broken clouds, Mist + Few clouds, Mist\n# 3: Light Snow, Light Rain + Thunderstorm + Scattered clouds, Light Rain + Scattered clouds\n# 4: Heavy Rain + Ice Pallets + Thunderstorm + Mist, Snow + Fog",
      "metadata": {
        "trusted": true
      },
      "outputs": [],
      "execution_count": 11
    },
    {
      "cell_type": "code",
      "source": "df['workingday'].value_counts()",
      "metadata": {
        "trusted": true
      },
      "outputs": [
        {
          "execution_count": 12,
          "output_type": "execute_result",
          "data": {
            "text/plain": "1    7412\n0    3474\nName: workingday, dtype: int64"
          },
          "metadata": {}
        }
      ],
      "execution_count": 12
    },
    {
      "cell_type": "code",
      "source": "# 1 is for workingday, otherwise is 0.",
      "metadata": {
        "trusted": true
      },
      "outputs": [],
      "execution_count": 13
    },
    {
      "cell_type": "code",
      "source": "df['holiday'].value_counts()",
      "metadata": {
        "trusted": true
      },
      "outputs": [
        {
          "execution_count": 14,
          "output_type": "execute_result",
          "data": {
            "text/plain": "0    10575\n1      311\nName: holiday, dtype: int64"
          },
          "metadata": {}
        }
      ],
      "execution_count": 14
    },
    {
      "cell_type": "code",
      "source": "# 1 for holiday and 0 is for not.",
      "metadata": {
        "trusted": true
      },
      "outputs": [],
      "execution_count": 15
    },
    {
      "cell_type": "markdown",
      "source": "### Percentage of Registered and Casual User",
      "metadata": {}
    },
    {
      "cell_type": "code",
      "source": "plt.pie(df[['casual','registered']].sum(),autopct='%.2f%%',labels=df[['casual','registered']].columns)\nplt.title('Percentage of registered and casual users')\nplt.show()",
      "metadata": {
        "trusted": true
      },
      "outputs": [
        {
          "output_type": "display_data",
          "data": {
            "text/plain": "<Figure size 640x480 with 1 Axes>",
            "image/png": "[encoded data removed]"
          },
          "metadata": {}
        }
      ],
      "execution_count": 16
    },
    {
      "cell_type": "markdown",
      "source": "### Number of rented E-cycles in each season and each weather",
      "metadata": {}
    },
    {
      "cell_type": "code",
      "source": "sns.countplot(data=df,x='weather',hue='season', palette='Set2')\nplt.legend(['Spring','Summer','Fall','Winter'])\nplt.title('Number of rented E-cycles in each season and each weather')\nplt.show()",
      "metadata": {
        "trusted": true
      },
      "outputs": [
        {
          "output_type": "display_data",
          "data": {
            "text/plain": "<Figure size 640x480 with 1 Axes>",
            "image/png": "[encoded data removed]"
          },
          "metadata": {}
        }
      ],
      "execution_count": 17
    },
    {
      "cell_type": "markdown",
      "source": "#### \"In above graph we see most of the e-cycles are rented when weather is Clear, Few clouds or partly cloudy in every seasons. Maximum number of cycles rented in fall season when weather is clear or few clouds. Minmum number of cycles rented in Heavy Rain or Ice Pallets or Thunderstrome with mist or snow with fog in\" ",
      "metadata": {}
    },
    {
      "cell_type": "markdown",
      "source": "## Outlier ",
      "metadata": {}
    },
    {
      "cell_type": "code",
      "source": "sns.boxplot(data=df, y=df['count'], hue='season', palette='Set2')",
      "metadata": {
        "trusted": true
      },
      "outputs": [
        {
          "execution_count": 75,
          "output_type": "execute_result",
          "data": {
            "text/plain": "<AxesSubplot:ylabel='count'>"
          },
          "metadata": {}
        },
        {
          "output_type": "display_data",
          "data": {
            "text/plain": "<Figure size 640x480 with 1 Axes>",
            "image/png": "[encoded data removed]"
          },
          "metadata": {}
        }
      ],
      "execution_count": 75
    },
    {
      "cell_type": "code",
      "source": "season1 = df.loc[df['season']==1]\nseason2 = df.loc[df['season']==2]\nseason3 = df.loc[df['season']==3]\nseason4 = df.loc[df['season']==4]",
      "metadata": {
        "trusted": true
      },
      "outputs": [],
      "execution_count": 45
    },
    {
      "cell_type": "code",
      "source": "# season 1{spring} outliers\nq1 = np.percentile(season1['count'],25)\nq2 = np.percentile(season1['count'],50)\nq3 = np.percentile(season1['count'],75)\niqr = q3-q1\nupper_whisker = q3+(iqr*1.5)\nlower_whisker = q1-(iqr*1.5)\noutliers = (season1['count']>upper_whisker).count()\nprint([upper_whisker,lower_whisker])\nprint(outliers)",
      "metadata": {
        "trusted": true
      },
      "outputs": [
        {
          "name": "stdout",
          "text": "[374.0, -186.0]\n2686\n",
          "output_type": "stream"
        }
      ],
      "execution_count": 49
    },
    {
      "cell_type": "code",
      "source": "# season 2{summer} outliers\nq1 = np.percentile(season2['count'],25)\nq2 = np.percentile(season2['count'],50)\nq3 = np.percentile(season2['count'],75)\niqr = q3-q1\nupper_whisker = q3+(iqr*1.5)\nlower_whisker = q1-(iqr*1.5)\noutliers = (season2['count']>upper_whisker).count()\nprint([upper_whisker,lower_whisker])\nprint(outliers)",
      "metadata": {
        "trusted": true
      },
      "outputs": [
        {
          "name": "stdout",
          "text": "[729.0, -359.0]\n2733\n",
          "output_type": "stream"
        }
      ],
      "execution_count": 47
    },
    {
      "cell_type": "code",
      "source": "# season 3{fall} outliers\nq1 = np.percentile(season3['count'],25)\nq2 = np.percentile(season3['count'],50)\nq3 = np.percentile(season3['count'],75)\niqr = q3-q1\nupper_whisker = q3+(iqr*1.5)\nlower_whisker = q1-(iqr*1.5)\noutliers = (season3['count']>upper_whisker).count()\nprint([upper_whisker,lower_whisker])\nprint(outliers)",
      "metadata": {
        "trusted": true
      },
      "outputs": [
        {
          "name": "stdout",
          "text": "[765.5, -350.5]\n2733\n",
          "output_type": "stream"
        }
      ],
      "execution_count": 50
    },
    {
      "cell_type": "code",
      "source": "# season 4{winter} outliers\nq1 = np.percentile(season4['count'],25)\nq2 = np.percentile(season4['count'],50)\nq3 = np.percentile(season4['count'],75)\niqr = q3-q1\nupper_whisker = q3+(iqr*1.5)\nlower_whisker = q1-(iqr*1.5)\noutliers = (season4['count']>upper_whisker).count()\nprint([upper_whisker,lower_whisker])\nprint(outliers)",
      "metadata": {
        "trusted": true
      },
      "outputs": [
        {
          "name": "stdout",
          "text": "[658.5, -313.5]\n2734\n",
          "output_type": "stream"
        }
      ],
      "execution_count": 52
    },
    {
      "cell_type": "markdown",
      "source": "# Outliers in different weather",
      "metadata": {}
    },
    {
      "cell_type": "code",
      "source": "sns.boxplot(data=df, y='count',hue='weather', palette='Set1')",
      "metadata": {
        "trusted": true
      },
      "outputs": [
        {
          "execution_count": 76,
          "output_type": "execute_result",
          "data": {
            "text/plain": "<AxesSubplot:ylabel='count'>"
          },
          "metadata": {}
        },
        {
          "output_type": "display_data",
          "data": {
            "text/plain": "<Figure size 640x480 with 1 Axes>",
            "image/png": "[encoded data removed]"
          },
          "metadata": {}
        }
      ],
      "execution_count": 76
    },
    {
      "cell_type": "code",
      "source": "weather1 = df.loc[df['weather']==1]\nweather2 = df.loc[df['weather']==2]\nweather3 = df.loc[df['weather']==3]\nweather4 = df.loc[df['weather']==4]",
      "metadata": {
        "trusted": true
      },
      "outputs": [],
      "execution_count": 55
    },
    {
      "cell_type": "code",
      "source": "# weather 1 outliers\nq1 = np.percentile(weather1['count'],25)\nq2 = np.percentile(weather1['count'],50)\nq3 = np.percentile(weather1['count'],75)\niqr = q3-q1\nupper_whisker = q3+(iqr*1.5)\nlower_whisker = q1-(iqr*1.5)\noutliers = (weather1['count']>upper_whisker).count()\nprint([upper_whisker,lower_whisker])\nprint(outliers)",
      "metadata": {
        "trusted": true
      },
      "outputs": [
        {
          "name": "stdout",
          "text": "[690.5, -337.5]\n7192\n",
          "output_type": "stream"
        }
      ],
      "execution_count": 56
    },
    {
      "cell_type": "code",
      "source": "# weather 2 outliers\nq1 = np.percentile(weather2['count'],25)\nq2 = np.percentile(weather2['count'],50)\nq3 = np.percentile(weather2['count'],75)\niqr = q3-q1\nupper_whisker = q3+(iqr*1.5)\nlower_whisker = q1-(iqr*1.5)\noutliers = (weather2['count']>upper_whisker).count()\nprint([upper_whisker,lower_whisker])\nprint(outliers)",
      "metadata": {
        "trusted": true
      },
      "outputs": [
        {
          "name": "stdout",
          "text": "[598.5, -293.5]\n2834\n",
          "output_type": "stream"
        }
      ],
      "execution_count": 57
    },
    {
      "cell_type": "code",
      "source": "# weather 3 outliers\nq1 = np.percentile(weather3['count'],25)\nq2 = np.percentile(weather3['count'],50)\nq3 = np.percentile(weather3['count'],75)\niqr = q3-q1\nupper_whisker = q3+(iqr*1.5)\nlower_whisker = q1-(iqr*1.5)\noutliers = (weather3['count']>upper_whisker).count()\nprint([upper_whisker,lower_whisker])\nprint(outliers)",
      "metadata": {
        "trusted": true
      },
      "outputs": [
        {
          "name": "stdout",
          "text": "[368.0, -184.0]\n859\n",
          "output_type": "stream"
        }
      ],
      "execution_count": 58
    },
    {
      "cell_type": "code",
      "source": "# weather 4 outliers\nq1 = np.percentile(weather4['count'],25)\nq2 = np.percentile(weather4['count'],50)\nq3 = np.percentile(weather4['count'],75)\niqr = q3-q1\nupper_whisker = q3+(iqr*1.5)\nlower_whisker = q1-(iqr*1.5)\noutliers = (weather4['count']>upper_whisker).count()\nprint([upper_whisker,lower_whisker])\nprint(outliers) ",
      "metadata": {
        "trusted": true
      },
      "outputs": [
        {
          "name": "stdout",
          "text": "[164.0, 164.0]\n1\n",
          "output_type": "stream"
        }
      ],
      "execution_count": 59
    },
    {
      "cell_type": "code",
      "source": "# in weather 4 there is only one value so upper and lower are same.",
      "metadata": {
        "trusted": true
      },
      "outputs": [],
      "execution_count": 60
    },
    {
      "cell_type": "code",
      "source": "workingday = df[df['workingday']==1]\noffday = df[df['workingday']==0]\nworkingday['count'].sum(), offday['count'].sum()",
      "metadata": {
        "trusted": true
      },
      "outputs": [
        {
          "execution_count": 61,
          "output_type": "execute_result",
          "data": {
            "text/plain": "(1430604, 654872)"
          },
          "metadata": {}
        }
      ],
      "execution_count": 61
    },
    {
      "cell_type": "code",
      "source": "workingday['count'].mean(),offday['count'].mean()",
      "metadata": {
        "trusted": true
      },
      "outputs": [
        {
          "execution_count": 64,
          "output_type": "execute_result",
          "data": {
            "text/plain": "(193.01187263896384, 188.50662061024755)"
          },
          "metadata": {}
        }
      ],
      "execution_count": 64
    },
    {
      "cell_type": "markdown",
      "source": "## Working Day has effect on number of electric cycles rented",
      "metadata": {}
    },
    {
      "cell_type": "code",
      "source": "# here we use 2-ttest bcz {cat-num} relationship\n# for that Ho[null hypothesis]= [workingday=offday]\n# and  Ha[alternative hypothesis] = [workingday > offday]\n# [workingday!=offday], [workingday <= offday], [workingday > offday]\n# significence level = .05 or 5 %",
      "metadata": {
        "trusted": true
      },
      "outputs": [],
      "execution_count": 91
    },
    {
      "cell_type": "code",
      "source": "ttest_ind(workingday['count'],offday['count'],alternative='greater',equal_var=False)",
      "metadata": {
        "trusted": true
      },
      "outputs": [
        {
          "execution_count": 72,
          "output_type": "execute_result",
          "data": {
            "text/plain": "TtestResult(statistic=1.2362580418223226, pvalue=0.10820156140347549, df=7176.288413844308)"
          },
          "metadata": {}
        }
      ],
      "execution_count": 72
    },
    {
      "cell_type": "code",
      "source": "# As per my ttest result, on the basies of pvalue we can say that null hypothesis[Ho] is fail to reject.\n# As per data : there is no effect  of working day on rented e-cycles.\n# there is 10.82% values lies on right side of statistic.",
      "metadata": {
        "trusted": true
      },
      "outputs": [],
      "execution_count": 74
    },
    {
      "cell_type": "markdown",
      "source": "# No. of cycles rented similar or different in different seasons",
      "metadata": {}
    },
    {
      "cell_type": "code",
      "source": "# before to anova test we have check some assumptions:\n# 1. each group is follow the gaussian distribution,\n# 2. data of sample is independent for all group\n# 3. equal varriance in defferent group",
      "metadata": {
        "trusted": true
      },
      "outputs": [],
      "execution_count": null
    },
    {
      "cell_type": "code",
      "source": "# with qqplot we can check group is following the gaussian distribution or not. \nfig, ax = plt.subplots(figsize=(5, 3))\nqqplot(season1['count'],line='s',ax=ax)\nplt.show()",
      "metadata": {
        "trusted": true
      },
      "outputs": [
        {
          "output_type": "display_data",
          "data": {
            "text/plain": "<Figure size 500x300 with 1 Axes>",
            "image/png": "[encoded data removed]"
          },
          "metadata": {}
        }
      ],
      "execution_count": 127
    },
    {
      "cell_type": "markdown",
      "source": "# there is another test so we check all the groups with staticially, that groups is following gaussian or not?",
      "metadata": {}
    },
    {
      "cell_type": "code",
      "source": "# with Shapiro test\n# Ho = data is gaussian distribution\n# Ha = data is not gaussian distribution",
      "metadata": {
        "trusted": true
      },
      "outputs": [],
      "execution_count": 141
    },
    {
      "cell_type": "code",
      "source": "season1_sample = season1.sample(200)\nshapiro(season1_sample['count'])",
      "metadata": {
        "trusted": true
      },
      "outputs": [
        {
          "execution_count": 131,
          "output_type": "execute_result",
          "data": {
            "text/plain": "ShapiroResult(statistic=0.7973095774650574, pvalue=2.1843107766874974e-15)"
          },
          "metadata": {}
        }
      ],
      "execution_count": 131
    },
    {
      "cell_type": "code",
      "source": "season2_sample = season2.sample(200)\nshapiro(season2_sample['count'])",
      "metadata": {
        "trusted": true
      },
      "outputs": [
        {
          "execution_count": 133,
          "output_type": "execute_result",
          "data": {
            "text/plain": "ShapiroResult(statistic=0.9159117937088013, pvalue=2.9502791321078803e-09)"
          },
          "metadata": {}
        }
      ],
      "execution_count": 133
    },
    {
      "cell_type": "code",
      "source": "season3_sample = season3.sample(200)\nshapiro(season3_sample['count'])",
      "metadata": {
        "trusted": true
      },
      "outputs": [
        {
          "execution_count": 134,
          "output_type": "execute_result",
          "data": {
            "text/plain": "ShapiroResult(statistic=0.9244676232337952, pvalue=1.2544050242979665e-08)"
          },
          "metadata": {}
        }
      ],
      "execution_count": 134
    },
    {
      "cell_type": "code",
      "source": "season4_sample = season4.sample(200)\nshapiro(season4_sample['count'])",
      "metadata": {
        "trusted": true
      },
      "outputs": [
        {
          "execution_count": 135,
          "output_type": "execute_result",
          "data": {
            "text/plain": "ShapiroResult(statistic=0.8903344869613647, pvalue=6.355672932389922e-11)"
          },
          "metadata": {}
        }
      ],
      "execution_count": 135
    },
    {
      "cell_type": "code",
      "source": "# all four group not follow the gaussian distribution so we test kruskal test.\n# but before kruskal test we check the varriance are equal for different groups.",
      "metadata": {
        "trusted": true
      },
      "outputs": [],
      "execution_count": 140
    },
    {
      "cell_type": "markdown",
      "source": "# check the varriance are equal for different groups.",
      "metadata": {}
    },
    {
      "cell_type": "code",
      "source": "# levene test\n# Ho = varriance is equal\n# Ha = varriance is not equal",
      "metadata": {
        "trusted": true
      },
      "outputs": [],
      "execution_count": 142
    },
    {
      "cell_type": "code",
      "source": "sns.histplot(data=df, x='count',hue='season')",
      "metadata": {
        "trusted": true
      },
      "outputs": [
        {
          "execution_count": 145,
          "output_type": "execute_result",
          "data": {
            "text/plain": "<AxesSubplot:xlabel='count', ylabel='Count'>"
          },
          "metadata": {}
        },
        {
          "output_type": "display_data",
          "data": {
            "text/plain": "<Figure size 640x480 with 1 Axes>",
            "image/png": "[encoded data removed]"
          },
          "metadata": {}
        }
      ],
      "execution_count": 145
    },
    {
      "cell_type": "code",
      "source": "levene(season1['count'],season2['count'],season3['count'],season4['count'])",
      "metadata": {
        "trusted": true
      },
      "outputs": [
        {
          "execution_count": 149,
          "output_type": "execute_result",
          "data": {
            "text/plain": "LeveneResult(statistic=187.7706624026276, pvalue=1.0147116860043298e-118)"
          },
          "metadata": {}
        }
      ],
      "execution_count": 149
    },
    {
      "cell_type": "code",
      "source": "# As per levene test, pvalue is very low so we reject our null hypothesis\n# varriance is not equal",
      "metadata": {
        "trusted": true
      },
      "outputs": [],
      "execution_count": 150
    },
    {
      "cell_type": "markdown",
      "source": "# kruskal test",
      "metadata": {}
    },
    {
      "cell_type": "code",
      "source": "# here we use kruskal test bcz in season there is 4 categories and this is categorial vs numerical \n# for that Ho[null hypothesis]= there is no impact for season on rented cycles\n# and  Ha[alternative hypothesis] = season impact on rented cycles\n# significence level = .05 or 5 %",
      "metadata": {
        "trusted": true
      },
      "outputs": [],
      "execution_count": 137
    },
    {
      "cell_type": "code",
      "source": "kruskal(season1['count'],season2['count'],season3['count'],season4['count'])",
      "metadata": {
        "trusted": true
      },
      "outputs": [
        {
          "execution_count": 138,
          "output_type": "execute_result",
          "data": {
            "text/plain": "KruskalResult(statistic=699.6668548181988, pvalue=2.479008372608633e-151)"
          },
          "metadata": {}
        }
      ],
      "execution_count": 138
    },
    {
      "cell_type": "code",
      "source": "# As per kruskal test, pvalue is very low so we reject our null hypothesis\n# in that means season impact on rented cycles",
      "metadata": {
        "trusted": true
      },
      "outputs": [],
      "execution_count": null
    },
    {
      "cell_type": "code",
      "source": "f_oneway(season1['count'],season2['count'],season3['count'],season4['count'])",
      "metadata": {
        "trusted": true
      },
      "outputs": [
        {
          "execution_count": 79,
          "output_type": "execute_result",
          "data": {
            "text/plain": "F_onewayResult(statistic=236.94671081032106, pvalue=6.164843386499654e-149)"
          },
          "metadata": {}
        }
      ],
      "execution_count": 79
    },
    {
      "cell_type": "code",
      "source": "# As per anova test also pvalue is very low but statistic are changed.",
      "metadata": {
        "trusted": true
      },
      "outputs": [],
      "execution_count": 139
    },
    {
      "cell_type": "markdown",
      "source": "# No. of cycles rented similar or different in different weather",
      "metadata": {}
    },
    {
      "cell_type": "code",
      "source": "# here we use Anova test bcz in weather there is 4 categories and this is categorial vs numerical \n# for that Ho[null hypothesis]= there is no impact for weather on rented cycles\n# and  Ha[alternative hypothesis] = weather impact on rented cycles\n# significence level = .05 or 5 %",
      "metadata": {
        "trusted": true
      },
      "outputs": [],
      "execution_count": 94
    },
    {
      "cell_type": "code",
      "source": "f_oneway(weather1['count'],weather2['count'],weather3['count'],weather4['count'])",
      "metadata": {
        "trusted": true
      },
      "outputs": [
        {
          "execution_count": 82,
          "output_type": "execute_result",
          "data": {
            "text/plain": "F_onewayResult(statistic=65.53024112793271, pvalue=5.482069475935669e-42)"
          },
          "metadata": {}
        }
      ],
      "execution_count": 82
    },
    {
      "cell_type": "code",
      "source": "# As per anova test, pvalue is very low so we reject our null hypothesis\n# in that means weather impact on rented cycles",
      "metadata": {
        "trusted": true
      },
      "outputs": [],
      "execution_count": 83
    },
    {
      "cell_type": "markdown",
      "source": "# Weather is dependent on season ",
      "metadata": {}
    },
    {
      "cell_type": "code",
      "source": "# To find out weather is dependent on season, we will do chi-square test\n# Ho = weather and season are independent.\n# Ha = weather is dependent on season.\n# significence level = .05 or 5 %",
      "metadata": {
        "trusted": true
      },
      "outputs": [],
      "execution_count": 93
    },
    {
      "cell_type": "code",
      "source": "weather_season = pd.crosstab(index=df['season'],columns=df['weather'])",
      "metadata": {
        "trusted": true
      },
      "outputs": [],
      "execution_count": 87
    },
    {
      "cell_type": "code",
      "source": "weather_season",
      "metadata": {
        "trusted": true
      },
      "outputs": [
        {
          "execution_count": 89,
          "output_type": "execute_result",
          "data": {
            "text/plain": "weather     1    2    3  4\nseason                    \n1        1759  715  211  1\n2        1801  708  224  0\n3        1930  604  199  0\n4        1702  807  225  0",
            "text/html": "<div>\n<style scoped>\n    .dataframe tbody tr th:only-of-type {\n        vertical-align: middle;\n    }\n\n    .dataframe tbody tr th {\n        vertical-align: top;\n    }\n\n    .dataframe thead th {\n        text-align: right;\n    }\n</style>\n<table border=\"1\" class=\"dataframe\">\n  <thead>\n    <tr style=\"text-align: right;\">\n      <th>weather</th>\n      <th>1</th>\n      <th>2</th>\n      <th>3</th>\n      <th>4</th>\n    </tr>\n    <tr>\n      <th>season</th>\n      <th></th>\n      <th></th>\n      <th></th>\n      <th></th>\n    </tr>\n  </thead>\n  <tbody>\n    <tr>\n      <th>1</th>\n      <td>1759</td>\n      <td>715</td>\n      <td>211</td>\n      <td>1</td>\n    </tr>\n    <tr>\n      <th>2</th>\n      <td>1801</td>\n      <td>708</td>\n      <td>224</td>\n      <td>0</td>\n    </tr>\n    <tr>\n      <th>3</th>\n      <td>1930</td>\n      <td>604</td>\n      <td>199</td>\n      <td>0</td>\n    </tr>\n    <tr>\n      <th>4</th>\n      <td>1702</td>\n      <td>807</td>\n      <td>225</td>\n      <td>0</td>\n    </tr>\n  </tbody>\n</table>\n</div>"
          },
          "metadata": {}
        }
      ],
      "execution_count": 89
    },
    {
      "cell_type": "code",
      "source": "chi2_contingency(weather_season)",
      "metadata": {
        "trusted": true
      },
      "outputs": [
        {
          "execution_count": 90,
          "output_type": "execute_result",
          "data": {
            "text/plain": "Chi2ContingencyResult(statistic=49.158655596893624, pvalue=1.549925073686492e-07, dof=9, expected_freq=array([[1.77454639e+03, 6.99258130e+02, 2.11948742e+02, 2.46738931e-01],\n       [1.80559765e+03, 7.11493845e+02, 2.15657450e+02, 2.51056403e-01],\n       [1.80559765e+03, 7.11493845e+02, 2.15657450e+02, 2.51056403e-01],\n       [1.80625831e+03, 7.11754180e+02, 2.15736359e+02, 2.51148264e-01]]))"
          },
          "metadata": {}
        }
      ],
      "execution_count": 90
    },
    {
      "cell_type": "code",
      "source": "# In chi test, we get very low pvalue as compare to alpha so we reject our null hypothesis.\n# weather is dependent on season.",
      "metadata": {
        "trusted": true
      },
      "outputs": [],
      "execution_count": null
    },
    {
      "cell_type": "markdown",
      "source": "# temperature impact on No. of rented cycles ",
      "metadata": {}
    },
    {
      "cell_type": "code",
      "source": "# we test pearson or spearman for to know temperature impact on No. of rented cycles or not\n# Ho = No impact of temperature on No. of rented cycles\n# Ha = temperature impact on No. of rented cycles",
      "metadata": {
        "trusted": true
      },
      "outputs": [],
      "execution_count": null
    },
    {
      "cell_type": "code",
      "source": "df['temp'].aggregate(['min','max'])",
      "metadata": {
        "trusted": true
      },
      "outputs": [
        {
          "execution_count": 96,
          "output_type": "execute_result",
          "data": {
            "text/plain": "min     0.82\nmax    41.00\nName: temp, dtype: float64"
          },
          "metadata": {}
        }
      ],
      "execution_count": 96
    },
    {
      "cell_type": "code",
      "source": "df[['temp','count']].corr()",
      "metadata": {
        "trusted": true
      },
      "outputs": [
        {
          "execution_count": 98,
          "output_type": "execute_result",
          "data": {
            "text/plain": "           temp     count\ntemp   1.000000  0.394454\ncount  0.394454  1.000000",
            "text/html": "<div>\n<style scoped>\n    .dataframe tbody tr th:only-of-type {\n        vertical-align: middle;\n    }\n\n    .dataframe tbody tr th {\n        vertical-align: top;\n    }\n\n    .dataframe thead th {\n        text-align: right;\n    }\n</style>\n<table border=\"1\" class=\"dataframe\">\n  <thead>\n    <tr style=\"text-align: right;\">\n      <th></th>\n      <th>temp</th>\n      <th>count</th>\n    </tr>\n  </thead>\n  <tbody>\n    <tr>\n      <th>temp</th>\n      <td>1.000000</td>\n      <td>0.394454</td>\n    </tr>\n    <tr>\n      <th>count</th>\n      <td>0.394454</td>\n      <td>1.000000</td>\n    </tr>\n  </tbody>\n</table>\n</div>"
          },
          "metadata": {}
        }
      ],
      "execution_count": 98
    },
    {
      "cell_type": "code",
      "source": "spearmanr(df['temp'],df['count'])",
      "metadata": {
        "trusted": true
      },
      "outputs": [
        {
          "execution_count": 102,
          "output_type": "execute_result",
          "data": {
            "text/plain": "SignificanceResult(statistic=0.40798939475098117, pvalue=0.0)"
          },
          "metadata": {}
        }
      ],
      "execution_count": 102
    },
    {
      "cell_type": "code",
      "source": "pearsonr(df['temp'],df['count'])",
      "metadata": {
        "trusted": true
      },
      "outputs": [
        {
          "execution_count": 103,
          "output_type": "execute_result",
          "data": {
            "text/plain": "PearsonRResult(statistic=0.39445364496725027, pvalue=0.0)"
          },
          "metadata": {}
        }
      ],
      "execution_count": 103
    },
    {
      "cell_type": "code",
      "source": "# In spearman,pearson test, we get low pvalue as compare to alpha so we reject our null hypothesis.\n# temperature impact on No. of rented cycles",
      "metadata": {
        "trusted": true
      },
      "outputs": [],
      "execution_count": 104
    },
    {
      "cell_type": "code",
      "source": "",
      "metadata": {
        "trusted": true
      },
      "outputs": [],
      "execution_count": null
    }
  ]
}